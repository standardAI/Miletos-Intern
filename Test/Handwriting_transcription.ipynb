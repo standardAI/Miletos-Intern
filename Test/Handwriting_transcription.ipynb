{
  "cells": [
    {
      "cell_type": "markdown",
      "metadata": {
        "colab_type": "text",
        "id": "view-in-github"
      },
      "source": [
        "<a href=\"https://colab.research.google.com/github/PacktPublishing/Hands-On-Computer-Vision-with-PyTorch/blob/master/Chapter15/Handwriting_transcription.ipynb\" target=\"_parent\"><img src=\"https://colab.research.google.com/assets/colab-badge.svg\" alt=\"Open In Colab\"/></a>"
      ]
    },
    {
      "cell_type": "code",
      "execution_count": 1,
      "metadata": {
        "colab": {
          "base_uri": "https://localhost:8080/",
          "height": 445
        },
        "id": "hQDnOljOkTLT",
        "outputId": "6365b8e6-8ebd-4d96-b746-730b5a1ea336"
      },
      "outputs": [],
      "source": [
        "#!wget https://www.dropbox.com/s/l2ul3upj7dkv4ou/synthetic-data.zip\n",
        "#!unzip -qq synthetic-data.zip"
      ]
    },
    {
      "cell_type": "code",
      "execution_count": 2,
      "metadata": {
        "colab": {
          "base_uri": "https://localhost:8080/",
          "height": 666
        },
        "id": "VqAz_bnxkV6w",
        "outputId": "54ddeca6-7cb0-456b-e0c7-d1b73e309c52"
      },
      "outputs": [],
      "source": [
        "#!pip install torch_snippets torch_summary editdistance"
      ]
    },
    {
      "cell_type": "code",
      "execution_count": 2,
      "metadata": {
        "id": "H1IOQ7q9kX6Y"
      },
      "outputs": [],
      "source": [
        "from torch_snippets import *\n",
        "from torchsummary import summary\n",
        "import editdistance\n",
        "\n",
        "\n",
        "device = torch.device('cuda' if torch.cuda.is_available() else 'cpu')"
      ]
    },
    {
      "cell_type": "code",
      "execution_count": 4,
      "metadata": {},
      "outputs": [],
      "source": [
        "dfs1 = pd.read_excel('Date Strings Part I/Part I.xlsx')\n",
        "dfs2 = pd.read_excel('Date Strings Part II/Part II.xlsx')\n",
        "dfs3 = pd.read_excel('Date Strings Part III/Part III.xlsx')\n",
        "labels_train = {}\n",
        "labels_test = {}\n",
        "train_items = []\n",
        "test_items = []"
      ]
    },
    {
      "cell_type": "code",
      "execution_count": 5,
      "metadata": {},
      "outputs": [],
      "source": [
        "for i in range(len(dfs1)):\n",
        "    if not pd.isnull(dfs1.iloc[i,:].Image_Left):\n",
        "        if (str(dfs1.iloc[i,:].Date)[1] == '9' and int(str(dfs1.iloc[i,:].Date)[2]) < 2) or (str(dfs1.iloc[i,:].Date)[1] == '8'):\n",
        "            labels_train[dfs1.iloc[i,:].Image_Left] = str(dfs1.iloc[i,:].Date)\n",
        "            train_items.append('Date Strings Part I/Part I/' + dfs1.iloc[i,:].Image_Left + '.jpg')\n",
        "        else:\n",
        "            labels_test[dfs1.iloc[i,:].Image_Left] = str(dfs1.iloc[i,:].Date)\n",
        "            test_items.append('Date Strings Part I/Part I/' + dfs1.iloc[i,:].Image_Left + '.jpg')\n",
        "    if not pd.isnull(dfs1.iloc[i,:].Image_Right):\n",
        "        if (str(dfs1.iloc[i,:].Date)[1] == '9' and int(str(dfs1.iloc[i,:].Date)[2]) < 2) or (str(dfs1.iloc[i,:].Date)[1] == '8'):\n",
        "            labels_train[dfs1.iloc[i,:].Image_Right] = str(dfs1.iloc[i,:].Date)\n",
        "            train_items.append('Date Strings Part I/Part I/' + dfs1.iloc[i,:].Image_Right + '.jpg')\n",
        "        else:\n",
        "            labels_test[dfs1.iloc[i,:].Image_Right] = str(dfs1.iloc[i,:].Date)\n",
        "            test_items.append('Date Strings Part I/Part I/' + dfs1.iloc[i,:].Image_Right + '.jpg')"
      ]
    },
    {
      "cell_type": "code",
      "execution_count": 6,
      "metadata": {},
      "outputs": [],
      "source": [
        "for i in range(len(dfs2)):\n",
        "    if not pd.isnull(dfs2.iloc[i,:].Image_Left):\n",
        "        labels_train[dfs2.iloc[i,:].Image_Left] = str(dfs2.iloc[i,:].Date)\n",
        "        train_items.append('Date Strings Part II/Part II/' + dfs2.iloc[i,:].Image_Left + '.jpg')\n",
        "    if not pd.isnull(dfs2.iloc[i,:].Image_Right):\n",
        "        labels_train[dfs2.iloc[i,:].Image_Right] = str(dfs2.iloc[i,:].Date)\n",
        "        train_items.append('Date Strings Part II/Part II/' + dfs2.iloc[i,:].Image_Right + '.jpg')"
      ]
    },
    {
      "cell_type": "code",
      "execution_count": 7,
      "metadata": {},
      "outputs": [],
      "source": [
        "for i in range(len(dfs3)):\n",
        "    labels_test[dfs3.iloc[i,:].Image_name] = str(dfs3.iloc[i,:].Date)\n",
        "    test_items.append('Date Strings Part III/Part III/' + dfs3.iloc[i,:].Image_name + '.jpg')"
      ]
    },
    {
      "cell_type": "code",
      "execution_count": 8,
      "metadata": {},
      "outputs": [
        {
          "data": {
            "text/plain": [
              "(7924, 2076)"
            ]
          },
          "execution_count": 8,
          "metadata": {},
          "output_type": "execute_result"
        }
      ],
      "source": [
        "len(labels_train), len(labels_test)"
      ]
    },
    {
      "cell_type": "code",
      "execution_count": 9,
      "metadata": {},
      "outputs": [
        {
          "data": {
            "text/plain": [
              "10000"
            ]
          },
          "execution_count": 9,
          "metadata": {},
          "output_type": "execute_result"
        }
      ],
      "source": [
        "labels_total = {**labels_train, **labels_test}\n",
        "len(labels_total)"
      ]
    },
    {
      "cell_type": "code",
      "execution_count": 10,
      "metadata": {
        "colab": {
          "base_uri": "https://localhost:8080/",
          "height": 34
        },
        "id": "-sT64jwokZJ1",
        "outputId": "20d04524-198b-4bca-cc91-efc3566c8739"
      },
      "outputs": [],
      "source": [
        "#fname2label = lambda fname: stem(fname).split('@')[0]\n",
        "def fname2label(fname):\n",
        "    if fname[18:21] == 'III':\n",
        "        return labels_total[fname[31:-4]]\n",
        "    if fname[18:21] == 'II/':\n",
        "        return labels_total[fname[29:-4]]\n",
        "    else:\n",
        "        return labels_total[fname[27:-4]]\n",
        "#images = Glob('Date Strings Part I/Part I/*.png') + Glob('Date Strings Part II/Part II/*.png') + Glob('Date Strings Part III/Part III/*.png')"
      ]
    },
    {
      "cell_type": "code",
      "execution_count": 11,
      "metadata": {
        "id": "7N0yxeI8kafV"
      },
      "outputs": [],
      "source": [
        "vocab = '0123456789'\n",
        "B, T, V = 64, 16, len(vocab)\n",
        "H, W = 32, 128"
      ]
    },
    {
      "cell_type": "code",
      "execution_count": 12,
      "metadata": {
        "id": "U5ImW_I4kb3Z"
      },
      "outputs": [],
      "source": [
        "class OCRDataset(Dataset):\n",
        "    def __init__(self, items, vocab=vocab, timesteps=T):\n",
        "        super().__init__()\n",
        "        self.items = items\n",
        "        self.charList = {ix+1:ch for ix,ch in enumerate(vocab)}\n",
        "        self.charList.update({0: '`'})\n",
        "        self.invCharList = {v:k for k,v in self.charList.items()}\n",
        "        self.ts = timesteps\n",
        "    def __len__(self):\n",
        "        return len(self.items)\n",
        "    def sample(self):\n",
        "        return self[randint(len(self))]\n",
        "    def __getitem__(self, ix):\n",
        "        item = str(self.items[ix])\n",
        "        image = cv2.imread(item, 0)\n",
        "        label = fname2label(item)\n",
        "        return image, label\n",
        "    def collate_fn(self, batch):\n",
        "        images, labels, label_lengths, label_vectors, input_lengths = [], [], [], [], []\n",
        "        for image, label in batch:\n",
        "            images.append(torch.Tensor(self.preprocess(image))[None,None])\n",
        "            label_lengths.append(len(label))\n",
        "            labels.append(label)\n",
        "            label_vectors.append(self.str2vec(label))\n",
        "            input_lengths.append(self.ts)\n",
        "        images = torch.cat(images).float().to(device)\n",
        "        label_lengths = torch.Tensor(label_lengths).long().to(device)\n",
        "        label_vectors = torch.Tensor(label_vectors).long().to(device)\n",
        "        input_lengths = torch.Tensor(input_lengths).long().to(device)\n",
        "        return images, label_vectors, label_lengths, input_lengths, labels\n",
        "    def str2vec(self, string, pad=True):\n",
        "        string = ''.join([s for s in string if s in self.invCharList])\n",
        "        val = list(map(lambda x: self.invCharList[x], string)) \n",
        "        if pad:\n",
        "            while len(val) < self.ts:\n",
        "                val.append(0)\n",
        "        return val\n",
        "    def preprocess(self, img, shape=(32,128)):\n",
        "        target = np.ones(shape)*255\n",
        "        try:\n",
        "            H, W = shape\n",
        "            h, w = img.shape\n",
        "            fx = H/h\n",
        "            fy = W/w\n",
        "            f = min(fx, fy)\n",
        "            _h = int(h*f)\n",
        "            _w = int(w*f)\n",
        "            _img = cv2.resize(img, (_w,_h))\n",
        "            target[:_h,:_w] = _img\n",
        "        except:\n",
        "            ...\n",
        "        return (255-target)/255\n",
        "    def decoder_chars(self, pred):\n",
        "        decoded = \"\"\n",
        "        last = \"\"\n",
        "        pred = pred.cpu().detach().numpy()\n",
        "        for i in range(len(pred)):\n",
        "            k = np.argmax(pred[i])\n",
        "            if k > 0 and self.charList[k] != last:\n",
        "                last = self.charList[k]\n",
        "                decoded = decoded + last\n",
        "            elif k > 0 and self.charList[k] == last:\n",
        "                continue\n",
        "            else:\n",
        "                last = \"\"\n",
        "        return decoded.replace(\" \",\" \")\n",
        "    def wer(self, preds, labels):\n",
        "        c = 0\n",
        "        for p, l in zip(preds, labels):\n",
        "            c += p.lower().strip() != l.lower().strip()\n",
        "        return round(c/len(preds), 4)\n",
        "    def cer(self, preds, labels):\n",
        "        c, d = [], []\n",
        "        for p, l in zip(preds, labels):\n",
        "            c.append(editdistance.eval(p, l) / len(l))\n",
        "        return round(np.mean(c), 4)\n",
        "    def evaluate(self, model, ims, labels, lower=False):\n",
        "        model.eval()\n",
        "        preds = model(ims).permute(1,0,2) # B, T, V+1\n",
        "        preds = [self.decoder_chars(pred) for pred in preds]\n",
        "        return {'digit-error-rate': self.cer(preds, labels),\n",
        "                'whole-number-error-rate': self.wer(preds, labels),\n",
        "                'digit-accuracy' : 1 - self.cer(preds, labels),\n",
        "                'whole-number-accuracy' : 1 - self.wer(preds, labels)}\n"
      ]
    },
    {
      "cell_type": "code",
      "execution_count": 13,
      "metadata": {
        "colab": {
          "base_uri": "https://localhost:8080/",
          "height": 34
        },
        "id": "z1zYLnvmke6-",
        "outputId": "e1e9c4a9-8aed-4857-edf2-02f26622a45f"
      },
      "outputs": [],
      "source": [
        "from sklearn.model_selection import train_test_split\n",
        "#trn_items, val_items = train_test_split(Glob('synthetic-data'), test_size=0.2, random_state=22)\n",
        "\n",
        "trn_ds = OCRDataset(train_items)\n",
        "val_ds = OCRDataset(test_items)\n",
        "\n",
        "trn_dl = DataLoader(trn_ds, batch_size=B, collate_fn=trn_ds.collate_fn, drop_last=True, shuffle=True)\n",
        "val_dl = DataLoader(val_ds, batch_size=B, collate_fn=val_ds.collate_fn, drop_last=True)"
      ]
    },
    {
      "cell_type": "code",
      "execution_count": 14,
      "metadata": {
        "id": "ywO4IMsZk2g1"
      },
      "outputs": [],
      "source": [
        "from torch_snippets import Reshape, Permute\n",
        "class BasicBlock(nn.Module):\n",
        "    def __init__(self, ni, no, ks=3, st=1, padding=1, pool=2, drop=0.2):\n",
        "        super().__init__()\n",
        "        self.ks = ks\n",
        "        self.block = nn.Sequential(\n",
        "            nn.Conv2d(ni, no, kernel_size=ks, stride=st, padding=padding),\n",
        "            nn.BatchNorm2d(no, momentum=0.3),\n",
        "            nn.ReLU(inplace=True),\n",
        "            nn.MaxPool2d(pool),\n",
        "            nn.Dropout2d(drop)\n",
        "        )\n",
        "    def forward(self, x):\n",
        "        return self.block(x)"
      ]
    },
    {
      "cell_type": "code",
      "execution_count": 15,
      "metadata": {
        "id": "q3K_qrPek42x"
      },
      "outputs": [],
      "source": [
        "class Ocr(nn.Module):\n",
        "    def __init__(self, vocab):\n",
        "        super().__init__()\n",
        "        self.model = nn.Sequential(\n",
        "            BasicBlock( 1, 128),\n",
        "            BasicBlock(128, 128),\n",
        "            BasicBlock(128, 256, pool=(4,2)),\n",
        "            Reshape(-1, 256, 32),\n",
        "            Permute(2, 0, 1) # T, B, D\n",
        "        )\n",
        "        self.rnn = nn.Sequential(\n",
        "            nn.LSTM(256, 256, num_layers=2, dropout=0.2, bidirectional=True),\n",
        "        )\n",
        "        self.classification = nn.Sequential(\n",
        "            nn.Linear(512, vocab+1),\n",
        "            nn.LogSoftmax(-1),\n",
        "        )\n",
        "    def forward(self, x):\n",
        "        x = self.model(x)\n",
        "        x, lstm_states = self.rnn(x)\n",
        "        y = self.classification(x)\n",
        "        return y"
      ]
    },
    {
      "cell_type": "code",
      "execution_count": 16,
      "metadata": {
        "id": "7oc3qXBRk7Fh"
      },
      "outputs": [],
      "source": [
        "def ctc(log_probs, target, input_lengths, target_lengths, blank=0):\n",
        "    loss = nn.CTCLoss(blank=blank, zero_infinity=True)\n",
        "    ctc_loss = loss(log_probs, target, input_lengths, target_lengths)\n",
        "    return ctc_loss"
      ]
    },
    {
      "cell_type": "code",
      "execution_count": 17,
      "metadata": {
        "colab": {
          "base_uri": "https://localhost:8080/",
          "height": 986
        },
        "id": "CIsrWALYk-wh",
        "outputId": "8a328366-c12c-48d0-9d94-b7ea0f396ee0"
      },
      "outputs": [
        {
          "name": "stdout",
          "output_type": "stream",
          "text": [
            "==========================================================================================\n",
            "Layer (type:depth-idx)                   Output Shape              Param #\n",
            "==========================================================================================\n",
            "├─Sequential: 1-1                        [-1, 1, 256]              --\n",
            "|    └─BasicBlock: 2-1                   [-1, 128, 16, 64]         --\n",
            "|    |    └─Sequential: 3-1              [-1, 128, 16, 64]         1,536\n",
            "|    └─BasicBlock: 2-2                   [-1, 128, 8, 32]          --\n",
            "|    |    └─Sequential: 3-2              [-1, 128, 8, 32]          147,840\n",
            "|    └─BasicBlock: 2-3                   [-1, 256, 2, 16]          --\n",
            "|    |    └─Sequential: 3-3              [-1, 256, 2, 16]          295,680\n",
            "|    └─Reshape: 2-4                      [-1, 256, 32]             --\n",
            "|    └─Permute: 2-5                      [-1, 1, 256]              --\n",
            "├─Sequential: 1-2                        [-1, 1, 512]              --\n",
            "|    └─LSTM: 2-6                         [-1, 1, 512]              2,629,632\n",
            "├─Sequential: 1-3                        [-1, 1, 11]               --\n",
            "|    └─Linear: 2-7                       [-1, 1, 11]               5,643\n",
            "|    └─LogSoftmax: 2-8                   [-1, 1, 11]               --\n",
            "==========================================================================================\n",
            "Total params: 3,080,331\n",
            "Trainable params: 3,080,331\n",
            "Non-trainable params: 0\n",
            "Total mult-adds (M): 237.80\n",
            "==========================================================================================\n",
            "Input size (MB): 0.02\n",
            "Forward/backward pass size (MB): 11.00\n",
            "Params size (MB): 11.75\n",
            "Estimated Total Size (MB): 22.77\n",
            "==========================================================================================\n"
          ]
        },
        {
          "data": {
            "text/plain": [
              "==========================================================================================\n",
              "Layer (type:depth-idx)                   Output Shape              Param #\n",
              "==========================================================================================\n",
              "├─Sequential: 1-1                        [-1, 1, 256]              --\n",
              "|    └─BasicBlock: 2-1                   [-1, 128, 16, 64]         --\n",
              "|    |    └─Sequential: 3-1              [-1, 128, 16, 64]         1,536\n",
              "|    └─BasicBlock: 2-2                   [-1, 128, 8, 32]          --\n",
              "|    |    └─Sequential: 3-2              [-1, 128, 8, 32]          147,840\n",
              "|    └─BasicBlock: 2-3                   [-1, 256, 2, 16]          --\n",
              "|    |    └─Sequential: 3-3              [-1, 256, 2, 16]          295,680\n",
              "|    └─Reshape: 2-4                      [-1, 256, 32]             --\n",
              "|    └─Permute: 2-5                      [-1, 1, 256]              --\n",
              "├─Sequential: 1-2                        [-1, 1, 512]              --\n",
              "|    └─LSTM: 2-6                         [-1, 1, 512]              2,629,632\n",
              "├─Sequential: 1-3                        [-1, 1, 11]               --\n",
              "|    └─Linear: 2-7                       [-1, 1, 11]               5,643\n",
              "|    └─LogSoftmax: 2-8                   [-1, 1, 11]               --\n",
              "==========================================================================================\n",
              "Total params: 3,080,331\n",
              "Trainable params: 3,080,331\n",
              "Non-trainable params: 0\n",
              "Total mult-adds (M): 237.80\n",
              "==========================================================================================\n",
              "Input size (MB): 0.02\n",
              "Forward/backward pass size (MB): 11.00\n",
              "Params size (MB): 11.75\n",
              "Estimated Total Size (MB): 22.77\n",
              "=========================================================================================="
            ]
          },
          "execution_count": 17,
          "metadata": {},
          "output_type": "execute_result"
        }
      ],
      "source": [
        "model = Ocr(len(vocab)).to(device)\n",
        "#!pip install torch_summary\n",
        "from torchsummary import summary\n",
        "summary(model, torch.zeros((1,1,32,128)).to(device))"
      ]
    },
    {
      "cell_type": "code",
      "execution_count": 18,
      "metadata": {
        "id": "Hs7CY0BYlAn1"
      },
      "outputs": [],
      "source": [
        "def train_batch(data, model, optimizer, criterion):\n",
        "    model.train()\n",
        "    imgs, targets, label_lens, input_lens, labels = data\n",
        "    optimizer.zero_grad()\n",
        "    preds = model(imgs)\n",
        "    loss = criterion(preds, targets, input_lens, label_lens)\n",
        "    loss.backward()\n",
        "    optimizer.step()\n",
        "    results = trn_ds.evaluate(model, imgs.to(device), labels)\n",
        "    return loss, results"
      ]
    },
    {
      "cell_type": "code",
      "execution_count": 19,
      "metadata": {
        "id": "dpyuNswnlmSC"
      },
      "outputs": [],
      "source": [
        "@torch.no_grad()\n",
        "def validate_batch(data, model):\n",
        "    model.eval()\n",
        "    imgs, targets, label_lens, input_lens, labels = data\n",
        "    preds = model(imgs)\n",
        "    loss = criterion(preds, targets, input_lens, label_lens)\n",
        "    return loss, val_ds.evaluate(model, imgs.to(device), labels)"
      ]
    },
    {
      "cell_type": "code",
      "execution_count": 20,
      "metadata": {
        "id": "yzGBIQ-qloEB"
      },
      "outputs": [],
      "source": [
        "model = Ocr(len(vocab)).to(device)\n",
        "criterion = ctc\n",
        "\n",
        "optimizer = optim.AdamW(model.parameters(), lr=3e-3)\n",
        "\n",
        "n_epochs = 20\n",
        "log = Report(n_epochs)"
      ]
    },
    {
      "cell_type": "code",
      "execution_count": 21,
      "metadata": {
        "colab": {
          "base_uri": "https://localhost:8080/",
          "height": 1000
        },
        "id": "6zmJcfsklpl8",
        "outputId": "306fd2be-6265-448b-8a59-1e35382fae17"
      },
      "outputs": [
        {
          "name": "stdout",
          "output_type": "stream",
          "text": [
            "EPOCH: 0.488\ttrain_loss: 1.475\ttrain_digit_acc: 0.496\ttrain_whole_digit_acc: 0.000\t(12.45s - 498.02s remaining)"
          ]
        },
        {
          "ename": "KeyboardInterrupt",
          "evalue": "",
          "output_type": "error",
          "traceback": [
            "\u001b[0;31m---------------------------------------------------------------------------\u001b[0m",
            "\u001b[0;31mKeyboardInterrupt\u001b[0m                         Traceback (most recent call last)",
            "\u001b[1;32m/home/cosmos/Documents/Miletos/Test/Handwriting_transcription.ipynb Cell 22'\u001b[0m in \u001b[0;36m<cell line: 1>\u001b[0;34m()\u001b[0m\n\u001b[1;32m      <a href='vscode-notebook-cell:/home/cosmos/Documents/Miletos/Test/Handwriting_transcription.ipynb#ch0000021?line=3'>4</a>\u001b[0m \u001b[39mfor\u001b[39;00m ix, data \u001b[39min\u001b[39;00m \u001b[39menumerate\u001b[39m(trn_dl):\n\u001b[1;32m      <a href='vscode-notebook-cell:/home/cosmos/Documents/Miletos/Test/Handwriting_transcription.ipynb#ch0000021?line=4'>5</a>\u001b[0m     pos \u001b[39m=\u001b[39m ep \u001b[39m+\u001b[39m (ix\u001b[39m+\u001b[39m\u001b[39m1\u001b[39m)\u001b[39m/\u001b[39mN\n\u001b[0;32m----> <a href='vscode-notebook-cell:/home/cosmos/Documents/Miletos/Test/Handwriting_transcription.ipynb#ch0000021?line=5'>6</a>\u001b[0m     loss, results \u001b[39m=\u001b[39m train_batch(data, model, optimizer, criterion)\n\u001b[1;32m      <a href='vscode-notebook-cell:/home/cosmos/Documents/Miletos/Test/Handwriting_transcription.ipynb#ch0000021?line=6'>7</a>\u001b[0m     \u001b[39m# scheduler.step()\u001b[39;00m\n\u001b[1;32m      <a href='vscode-notebook-cell:/home/cosmos/Documents/Miletos/Test/Handwriting_transcription.ipynb#ch0000021?line=7'>8</a>\u001b[0m     ca, wa \u001b[39m=\u001b[39m results[\u001b[39m'\u001b[39m\u001b[39mdigit-accuracy\u001b[39m\u001b[39m'\u001b[39m], results[\u001b[39m'\u001b[39m\u001b[39mwhole-number-accuracy\u001b[39m\u001b[39m'\u001b[39m]\n",
            "\u001b[1;32m/home/cosmos/Documents/Miletos/Test/Handwriting_transcription.ipynb Cell 19'\u001b[0m in \u001b[0;36mtrain_batch\u001b[0;34m(data, model, optimizer, criterion)\u001b[0m\n\u001b[1;32m      <a href='vscode-notebook-cell:/home/cosmos/Documents/Miletos/Test/Handwriting_transcription.ipynb#ch0000018?line=6'>7</a>\u001b[0m loss\u001b[39m.\u001b[39mbackward()\n\u001b[1;32m      <a href='vscode-notebook-cell:/home/cosmos/Documents/Miletos/Test/Handwriting_transcription.ipynb#ch0000018?line=7'>8</a>\u001b[0m optimizer\u001b[39m.\u001b[39mstep()\n\u001b[0;32m----> <a href='vscode-notebook-cell:/home/cosmos/Documents/Miletos/Test/Handwriting_transcription.ipynb#ch0000018?line=8'>9</a>\u001b[0m results \u001b[39m=\u001b[39m trn_ds\u001b[39m.\u001b[39;49mevaluate(model, imgs\u001b[39m.\u001b[39;49mto(device), labels)\n\u001b[1;32m     <a href='vscode-notebook-cell:/home/cosmos/Documents/Miletos/Test/Handwriting_transcription.ipynb#ch0000018?line=9'>10</a>\u001b[0m \u001b[39mreturn\u001b[39;00m loss, results\n",
            "\u001b[1;32m/home/cosmos/Documents/Miletos/Test/Handwriting_transcription.ipynb Cell 13'\u001b[0m in \u001b[0;36mOCRDataset.evaluate\u001b[0;34m(self, model, ims, labels, lower)\u001b[0m\n\u001b[1;32m     <a href='vscode-notebook-cell:/home/cosmos/Documents/Miletos/Test/Handwriting_transcription.ipynb#ch0000012?line=77'>78</a>\u001b[0m model\u001b[39m.\u001b[39meval()\n\u001b[1;32m     <a href='vscode-notebook-cell:/home/cosmos/Documents/Miletos/Test/Handwriting_transcription.ipynb#ch0000012?line=78'>79</a>\u001b[0m preds \u001b[39m=\u001b[39m model(ims)\u001b[39m.\u001b[39mpermute(\u001b[39m1\u001b[39m,\u001b[39m0\u001b[39m,\u001b[39m2\u001b[39m) \u001b[39m# B, T, V+1\u001b[39;00m\n\u001b[0;32m---> <a href='vscode-notebook-cell:/home/cosmos/Documents/Miletos/Test/Handwriting_transcription.ipynb#ch0000012?line=79'>80</a>\u001b[0m preds \u001b[39m=\u001b[39m [\u001b[39mself\u001b[39m\u001b[39m.\u001b[39mdecoder_chars(pred) \u001b[39mfor\u001b[39;00m pred \u001b[39min\u001b[39;00m preds]\n\u001b[1;32m     <a href='vscode-notebook-cell:/home/cosmos/Documents/Miletos/Test/Handwriting_transcription.ipynb#ch0000012?line=80'>81</a>\u001b[0m \u001b[39mreturn\u001b[39;00m {\u001b[39m'\u001b[39m\u001b[39mdigit-error-rate\u001b[39m\u001b[39m'\u001b[39m: \u001b[39mself\u001b[39m\u001b[39m.\u001b[39mcer(preds, labels),\n\u001b[1;32m     <a href='vscode-notebook-cell:/home/cosmos/Documents/Miletos/Test/Handwriting_transcription.ipynb#ch0000012?line=81'>82</a>\u001b[0m         \u001b[39m'\u001b[39m\u001b[39mwhole-number-error-rate\u001b[39m\u001b[39m'\u001b[39m: \u001b[39mself\u001b[39m\u001b[39m.\u001b[39mwer(preds, labels),\n\u001b[1;32m     <a href='vscode-notebook-cell:/home/cosmos/Documents/Miletos/Test/Handwriting_transcription.ipynb#ch0000012?line=82'>83</a>\u001b[0m         \u001b[39m'\u001b[39m\u001b[39mdigit-accuracy\u001b[39m\u001b[39m'\u001b[39m : \u001b[39m1\u001b[39m \u001b[39m-\u001b[39m \u001b[39mself\u001b[39m\u001b[39m.\u001b[39mcer(preds, labels),\n\u001b[1;32m     <a href='vscode-notebook-cell:/home/cosmos/Documents/Miletos/Test/Handwriting_transcription.ipynb#ch0000012?line=83'>84</a>\u001b[0m         \u001b[39m'\u001b[39m\u001b[39mwhole-number-accuracy\u001b[39m\u001b[39m'\u001b[39m : \u001b[39m1\u001b[39m \u001b[39m-\u001b[39m \u001b[39mself\u001b[39m\u001b[39m.\u001b[39mwer(preds, labels)}\n",
            "\u001b[1;32m/home/cosmos/Documents/Miletos/Test/Handwriting_transcription.ipynb Cell 13'\u001b[0m in \u001b[0;36m<listcomp>\u001b[0;34m(.0)\u001b[0m\n\u001b[1;32m     <a href='vscode-notebook-cell:/home/cosmos/Documents/Miletos/Test/Handwriting_transcription.ipynb#ch0000012?line=77'>78</a>\u001b[0m model\u001b[39m.\u001b[39meval()\n\u001b[1;32m     <a href='vscode-notebook-cell:/home/cosmos/Documents/Miletos/Test/Handwriting_transcription.ipynb#ch0000012?line=78'>79</a>\u001b[0m preds \u001b[39m=\u001b[39m model(ims)\u001b[39m.\u001b[39mpermute(\u001b[39m1\u001b[39m,\u001b[39m0\u001b[39m,\u001b[39m2\u001b[39m) \u001b[39m# B, T, V+1\u001b[39;00m\n\u001b[0;32m---> <a href='vscode-notebook-cell:/home/cosmos/Documents/Miletos/Test/Handwriting_transcription.ipynb#ch0000012?line=79'>80</a>\u001b[0m preds \u001b[39m=\u001b[39m [\u001b[39mself\u001b[39;49m\u001b[39m.\u001b[39;49mdecoder_chars(pred) \u001b[39mfor\u001b[39;00m pred \u001b[39min\u001b[39;00m preds]\n\u001b[1;32m     <a href='vscode-notebook-cell:/home/cosmos/Documents/Miletos/Test/Handwriting_transcription.ipynb#ch0000012?line=80'>81</a>\u001b[0m \u001b[39mreturn\u001b[39;00m {\u001b[39m'\u001b[39m\u001b[39mdigit-error-rate\u001b[39m\u001b[39m'\u001b[39m: \u001b[39mself\u001b[39m\u001b[39m.\u001b[39mcer(preds, labels),\n\u001b[1;32m     <a href='vscode-notebook-cell:/home/cosmos/Documents/Miletos/Test/Handwriting_transcription.ipynb#ch0000012?line=81'>82</a>\u001b[0m         \u001b[39m'\u001b[39m\u001b[39mwhole-number-error-rate\u001b[39m\u001b[39m'\u001b[39m: \u001b[39mself\u001b[39m\u001b[39m.\u001b[39mwer(preds, labels),\n\u001b[1;32m     <a href='vscode-notebook-cell:/home/cosmos/Documents/Miletos/Test/Handwriting_transcription.ipynb#ch0000012?line=82'>83</a>\u001b[0m         \u001b[39m'\u001b[39m\u001b[39mdigit-accuracy\u001b[39m\u001b[39m'\u001b[39m : \u001b[39m1\u001b[39m \u001b[39m-\u001b[39m \u001b[39mself\u001b[39m\u001b[39m.\u001b[39mcer(preds, labels),\n\u001b[1;32m     <a href='vscode-notebook-cell:/home/cosmos/Documents/Miletos/Test/Handwriting_transcription.ipynb#ch0000012?line=83'>84</a>\u001b[0m         \u001b[39m'\u001b[39m\u001b[39mwhole-number-accuracy\u001b[39m\u001b[39m'\u001b[39m : \u001b[39m1\u001b[39m \u001b[39m-\u001b[39m \u001b[39mself\u001b[39m\u001b[39m.\u001b[39mwer(preds, labels)}\n",
            "\u001b[1;32m/home/cosmos/Documents/Miletos/Test/Handwriting_transcription.ipynb Cell 13'\u001b[0m in \u001b[0;36mOCRDataset.decoder_chars\u001b[0;34m(self, pred)\u001b[0m\n\u001b[1;32m     <a href='vscode-notebook-cell:/home/cosmos/Documents/Miletos/Test/Handwriting_transcription.ipynb#ch0000012?line=53'>54</a>\u001b[0m decoded \u001b[39m=\u001b[39m \u001b[39m\"\u001b[39m\u001b[39m\"\u001b[39m\n\u001b[1;32m     <a href='vscode-notebook-cell:/home/cosmos/Documents/Miletos/Test/Handwriting_transcription.ipynb#ch0000012?line=54'>55</a>\u001b[0m last \u001b[39m=\u001b[39m \u001b[39m\"\u001b[39m\u001b[39m\"\u001b[39m\n\u001b[0;32m---> <a href='vscode-notebook-cell:/home/cosmos/Documents/Miletos/Test/Handwriting_transcription.ipynb#ch0000012?line=55'>56</a>\u001b[0m pred \u001b[39m=\u001b[39m pred\u001b[39m.\u001b[39;49mcpu()\u001b[39m.\u001b[39mdetach()\u001b[39m.\u001b[39mnumpy()\n\u001b[1;32m     <a href='vscode-notebook-cell:/home/cosmos/Documents/Miletos/Test/Handwriting_transcription.ipynb#ch0000012?line=56'>57</a>\u001b[0m \u001b[39mfor\u001b[39;00m i \u001b[39min\u001b[39;00m \u001b[39mrange\u001b[39m(\u001b[39mlen\u001b[39m(pred)):\n\u001b[1;32m     <a href='vscode-notebook-cell:/home/cosmos/Documents/Miletos/Test/Handwriting_transcription.ipynb#ch0000012?line=57'>58</a>\u001b[0m     k \u001b[39m=\u001b[39m np\u001b[39m.\u001b[39margmax(pred[i])\n",
            "\u001b[0;31mKeyboardInterrupt\u001b[0m: "
          ]
        }
      ],
      "source": [
        "for ep in range( n_epochs):\n",
        "    # if ep in lr_schedule: optimizer = AdamW(ocr.parameters(), lr=lr_schedule[ep])\n",
        "    N = len(trn_dl)\n",
        "    for ix, data in enumerate(trn_dl):\n",
        "        pos = ep + (ix+1)/N\n",
        "        loss, results = train_batch(data, model, optimizer, criterion)\n",
        "        # scheduler.step()\n",
        "        ca, wa = results['digit-accuracy'], results['whole-number-accuracy']\n",
        "        log.record(pos=pos, train_loss=loss, train_digit_acc=ca, train_whole_digit_acc=wa, end='\\r')\n",
        "    val_results = []\n",
        "    N = len(val_dl)\n",
        "    for ix, data in enumerate(val_dl):\n",
        "        pos = ep + (ix+1)/N\n",
        "        loss, results = validate_batch(data, model)\n",
        "        ca, wa = results['digit-accuracy'], results['whole-number-accuracy']\n",
        "        log.record(pos=pos, test_loss=loss, test_digit_acc=ca, test_whole_digit_acc=wa, end='\\r')\n",
        "\n",
        "    log.report_avgs(ep+1)\n",
        "    print()\n",
        "    for jx in range(5):\n",
        "        img, label = val_ds.sample()\n",
        "        _img = torch.Tensor(val_ds.preprocess(img)[None,None]).to(device)\n",
        "        pred = model(_img)[:,0,:]\n",
        "        pred = trn_ds.decoder_chars(pred)\n",
        "        print(f'Pred: `{pred}` :: Truth: `{label}`')\n",
        "    print()"
      ]
    },
    {
      "cell_type": "code",
      "execution_count": null,
      "metadata": {
        "colab": {
          "base_uri": "https://localhost:8080/",
          "height": 494
        },
        "id": "QDpczoK0lvcu",
        "outputId": "09196e3b-3206-4f66-a4f0-01ebd2df6671"
      },
      "outputs": [
        {
          "name": "stderr",
          "output_type": "stream",
          "text": [
            "100%|██████████| 151/151 [00:00<00:00, 897.06it/s]\n"
          ]
        },
        {
          "data": {
            "image/png": "[encoded data removed]",
            "text/plain": [
              "<Figure size 576x432 with 1 Axes>"
            ]
          },
          "metadata": {
            "needs_background": "light"
          },
          "output_type": "display_data"
        }
      ],
      "source": [
        "log.plot_epochs(['trn_word_acc','val_word_acc'], title='Training and validation word accuracy')"
      ]
    },
    {
      "cell_type": "code",
      "execution_count": null,
      "metadata": {},
      "outputs": [],
      "source": []
    },
    {
      "cell_type": "code",
      "execution_count": null,
      "metadata": {},
      "outputs": [],
      "source": []
    }
  ],
  "metadata": {
    "accelerator": "GPU",
    "colab": {
      "include_colab_link": true,
      "name": "Handwriting_transcription.ipynb",
      "provenance": []
    },
    "kernelspec": {
      "display_name": "Python 3.9.13 ('th')",
      "language": "python",
      "name": "python3"
    },
    "language_info": {
      "codemirror_mode": {
        "name": "ipython",
        "version": 3
      },
      "file_extension": ".py",
      "mimetype": "text/x-python",
      "name": "python",
      "nbconvert_exporter": "python",
      "pygments_lexer": "ipython3",
      "version": "3.9.13"
    },
    "vscode": {
      "interpreter": {
        "hash": "0eba0d3721dd99d5e85d92095d30b3f3baa213223e21c8471968ea015153b8df"
      }
    }
  },
  "nbformat": 4,
  "nbformat_minor": 0
}
